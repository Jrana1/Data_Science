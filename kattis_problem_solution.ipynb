{
 "cells": [
  {
   "cell_type": "markdown",
   "id": "c57a9c6d",
   "metadata": {},
   "source": [
    "# FRA-UAS Weekly Exercises -Number Theory- 20.04"
   ]
  },
  {
   "cell_type": "markdown",
   "id": "bdbd49d6",
   "metadata": {},
   "source": [
    "## A # N-Sum"
   ]
  },
  {
   "cell_type": "code",
   "execution_count": 10,
   "id": "48181247",
   "metadata": {},
   "outputs": [
    {
     "name": "stdout",
     "output_type": "stream",
     "text": [
      "4\n",
      "3 2 1 3\n",
      "9\n"
     ]
    }
   ],
   "source": [
    "\n",
    "def fun():\n",
    "    n = (int)(input())\n",
    "    arr=list((input().split(\" \")))\n",
    "    print(sum([int(x) for x in arr]))   \n",
    "fun()"
   ]
  },
  {
   "cell_type": "markdown",
   "id": "d17b99a0",
   "metadata": {},
   "source": [
    "## C # Harshad Numbers"
   ]
  },
  {
   "cell_type": "code",
   "execution_count": 9,
   "id": "1723d0ca",
   "metadata": {},
   "outputs": [
    {
     "name": "stdout",
     "output_type": "stream",
     "text": [
      "987654321\n",
      "987654330\n"
     ]
    }
   ],
   "source": [
    "def digitSum(n):\n",
    "    sum=0\n",
    "    while(n>0):\n",
    "        sum+=n%10\n",
    "        n//=10\n",
    "    return sum;\n",
    "num = (int)(input())\n",
    "while(True):\n",
    "    if num % digitSum(num)==0:\n",
    "        print(num)\n",
    "        break\n",
    "    num+=1\n"
   ]
  },
  {
   "cell_type": "markdown",
   "id": "300baffa",
   "metadata": {},
   "source": [
    "## D # Veci"
   ]
  },
  {
   "cell_type": "code",
   "execution_count": 4,
   "id": "c6216dfc",
   "metadata": {},
   "outputs": [
    {
     "name": "stdout",
     "output_type": "stream",
     "text": [
      "27711\n",
      "71127\n"
     ]
    }
   ],
   "source": [
    "    num = input()\n",
    "    l_num=len(num)\n",
    "    tmp = int(num)+1\n",
    "    while(True):\n",
    "         if sorted(num)==sorted(str(tmp)):\n",
    "                print(tmp)\n",
    "                break\n",
    "         if len(str(tmp))>l_num:\n",
    "                print(0)\n",
    "                break\n",
    "         tmp +=1"
   ]
  },
  {
   "cell_type": "markdown",
   "id": "f33819ab",
   "metadata": {},
   "source": [
    "## E # Simple Addition"
   ]
  },
  {
   "cell_type": "code",
   "execution_count": 6,
   "id": "be14f0d7",
   "metadata": {},
   "outputs": [
    {
     "name": "stdout",
     "output_type": "stream",
     "text": [
      "1\n",
      "99999999999999999999999999999\n",
      "100000000000000000000000000000\n"
     ]
    }
   ],
   "source": [
    "num1 = int(input())\n",
    "num2 = int(input())\n",
    "print(num1+num2)"
   ]
  },
  {
   "cell_type": "markdown",
   "id": "547325b5",
   "metadata": {},
   "source": [
    "## F # Patuljci"
   ]
  },
  {
   "cell_type": "code",
   "execution_count": 21,
   "id": "1a170872",
   "metadata": {},
   "outputs": [
    {
     "name": "stdout",
     "output_type": "stream",
     "text": [
      "8\n",
      "6\n",
      "5\n",
      "1\n",
      "37\n",
      "30\n",
      "28\n",
      "22\n",
      "36\n",
      "8\n",
      "6\n",
      "5\n",
      "1\n",
      "30\n",
      "28\n",
      "22\n"
     ]
    }
   ],
   "source": [
    "from itertools import combinations\n",
    "arr=[]\n",
    "for i in range(0,9):\n",
    "    arr.append(int(input()))\n",
    "lst= (list(combinations(arr,7)))\n",
    "for item in lst:\n",
    "    if sum(list(item))==100:\n",
    "        for x in list(item):\n",
    "            print(x)\n",
    "        break"
   ]
  },
  {
   "cell_type": "code",
   "execution_count": 21,
   "id": "51eabfe7",
   "metadata": {},
   "outputs": [
    {
     "name": "stdout",
     "output_type": "stream",
     "text": [
      "6\n",
      "6 perfect\n",
      "65\n",
      "65 not perfect\n",
      "650\n",
      "650 almost perfect\n"
     ]
    }
   ],
   "source": [
    "import math\n",
    "import sys\n",
    "for x in range(0,3):\n",
    "        num = int(input())\n",
    "        sum=0\n",
    "        i=1\n",
    "        while i<=num//2:\n",
    "            if num % i==0:\n",
    "                sum+=i\n",
    "            i+=1\n",
    "        if sum==num:\n",
    "            print(f\"{num} perfect\")\n",
    "        elif abs(sum-num)==2:\n",
    "             print(f\"{num} almost perfect\")\n",
    "        else:\n",
    "            print(f\"{num} not perfect\")\n",
    "            \n",
    "            "
   ]
  },
  {
   "cell_type": "markdown",
   "id": "35bad05d",
   "metadata": {},
   "source": [
    "## K # Last Factorial Digit"
   ]
  },
  {
   "cell_type": "code",
   "execution_count": 22,
   "id": "e81a49f8",
   "metadata": {},
   "outputs": [
    {
     "name": "stdout",
     "output_type": "stream",
     "text": [
      "3\n",
      "1\n",
      "1\n",
      "2\n",
      "2\n",
      "3\n",
      "6\n"
     ]
    }
   ],
   "source": [
    "import math\n",
    "n = int(input())\n",
    "for i in range(0,n):\n",
    "    print(math.factorial(int(input()))%10)"
   ]
  },
  {
   "cell_type": "markdown",
   "id": "5260215a",
   "metadata": {},
   "source": [
    "## M # The Easiest Problem Is This One"
   ]
  },
  {
   "cell_type": "code",
   "execution_count": 26,
   "id": "ef880c79",
   "metadata": {},
   "outputs": [
    {
     "name": "stdout",
     "output_type": "stream",
     "text": [
      "3029\n",
      "37\n",
      "4\n",
      "28\n",
      "5\n",
      "28\n",
      "42\n",
      "25\n",
      "0\n"
     ]
    }
   ],
   "source": [
    "def digitSum(n):\n",
    "    sum=0\n",
    "    while(n>0):\n",
    "        sum+=n%10\n",
    "        n//=10\n",
    "    return sum;\n",
    "while True:\n",
    "    num = int(input())\n",
    "    if num==0:\n",
    "        break\n",
    "    i=11\n",
    "    while True:\n",
    "        if digitSum(i*num)==digitSum(num):\n",
    "            print(i)\n",
    "            break\n",
    "        i+=1\n",
    "    "
   ]
  }
 ],
 "metadata": {
  "kernelspec": {
   "display_name": "Python 3 (ipykernel)",
   "language": "python",
   "name": "python3"
  },
  "language_info": {
   "codemirror_mode": {
    "name": "ipython",
    "version": 3
   },
   "file_extension": ".py",
   "mimetype": "text/x-python",
   "name": "python",
   "nbconvert_exporter": "python",
   "pygments_lexer": "ipython3",
   "version": "3.9.13"
  }
 },
 "nbformat": 4,
 "nbformat_minor": 5
}
