{
 "cells": [
  {
   "cell_type": "markdown",
   "id": "e0c7d5d8",
   "metadata": {},
   "source": [
    "# Query 1:  What percentage of all licensed sets ever released were Star Wars themed"
   ]
  },
  {
   "cell_type": "markdown",
   "id": "e8ac3867",
   "metadata": {},
   "source": [
    "## import necessary libraries "
   ]
  },
  {
   "cell_type": "code",
   "execution_count": 1,
   "id": "26550150",
   "metadata": {
    "scrolled": true
   },
   "outputs": [
    {
     "name": "stderr",
     "output_type": "stream",
     "text": [
      "── \u001b[1mAttaching core tidyverse packages\u001b[22m ──────────────────────────────────────────────────────────────────────── tidyverse 2.0.0 ──\n",
      "\u001b[32m✔\u001b[39m \u001b[34mdplyr    \u001b[39m 1.1.0     \u001b[32m✔\u001b[39m \u001b[34mreadr    \u001b[39m 2.1.4\n",
      "\u001b[32m✔\u001b[39m \u001b[34mforcats  \u001b[39m 1.0.0     \u001b[32m✔\u001b[39m \u001b[34mstringr  \u001b[39m 1.5.0\n",
      "\u001b[32m✔\u001b[39m \u001b[34mggplot2  \u001b[39m 3.4.1     \u001b[32m✔\u001b[39m \u001b[34mtibble   \u001b[39m 3.1.8\n",
      "\u001b[32m✔\u001b[39m \u001b[34mlubridate\u001b[39m 1.9.2     \u001b[32m✔\u001b[39m \u001b[34mtidyr    \u001b[39m 1.3.0\n",
      "\u001b[32m✔\u001b[39m \u001b[34mpurrr    \u001b[39m 1.0.1     \n",
      "── \u001b[1mConflicts\u001b[22m ────────────────────────────────────────────────────────────────────────────────────────── tidyverse_conflicts() ──\n",
      "\u001b[31m✖\u001b[39m \u001b[34mdplyr\u001b[39m::\u001b[32mfilter()\u001b[39m masks \u001b[34mstats\u001b[39m::filter()\n",
      "\u001b[31m✖\u001b[39m \u001b[34mdplyr\u001b[39m::\u001b[32mlag()\u001b[39m    masks \u001b[34mstats\u001b[39m::lag()\n",
      "\u001b[36mℹ\u001b[39m Use the conflicted package (\u001b[3m\u001b[34m<http://conflicted.r-lib.org/>\u001b[39m\u001b[23m) to force all conflicts to become errors\n"
     ]
    }
   ],
   "source": [
    "library(tidyverse)"
   ]
  },
  {
   "cell_type": "markdown",
   "id": "62127190",
   "metadata": {},
   "source": [
    "### import datasets"
   ]
  },
  {
   "cell_type": "code",
   "execution_count": 10,
   "id": "0df81f25",
   "metadata": {
    "scrolled": false
   },
   "outputs": [
    {
     "name": "stderr",
     "output_type": "stream",
     "text": [
      "\u001b[1mRows: \u001b[22m\u001b[34m11986\u001b[39m \u001b[1mColumns: \u001b[22m\u001b[34m6\u001b[39m\n",
      "\u001b[36m──\u001b[39m \u001b[1mColumn specification\u001b[22m \u001b[36m────────────────────────────────────────────────────────────────────────────────────────────────────────\u001b[39m\n",
      "\u001b[1mDelimiter:\u001b[22m \",\"\n",
      "\u001b[31mchr\u001b[39m (4): set_num, name, theme_name, parent_theme\n",
      "\u001b[32mdbl\u001b[39m (2): year, num_parts\n",
      "\n",
      "\u001b[36mℹ\u001b[39m Use `spec()` to retrieve the full column specification for this data.\n",
      "\u001b[36mℹ\u001b[39m Specify the column types or set `show_col_types = FALSE` to quiet this message.\n"
     ]
    },
    {
     "name": "stdout",
     "output_type": "stream",
     "text": [
      "tibble [11,986 × 6] (S3: tbl_df/tbl/data.frame)\n",
      " $ set_num     : chr [1:11986] \"00-1\" \"0011-2\" \"0011-3\" \"0012-1\" ...\n",
      " $ name        : chr [1:11986] \"Weetabix Castle\" \"Town Mini-Figures\" \"Castle 2 for 1 Bonus Offer\" \"Space Mini-Figures\" ...\n",
      " $ year        : num [1:11986] 1970 1978 1987 1979 1979 ...\n",
      " $ num_parts   : num [1:11986] 471 NA NA 12 12 12 NA NA NA NA ...\n",
      " $ theme_name  : chr [1:11986] \"Castle\" \"Supplemental\" \"Lion Knights\" \"Supplemental\" ...\n",
      " $ parent_theme: chr [1:11986] \"Legoland\" \"Town\" \"Castle\" \"Space\" ...\n"
     ]
    },
    {
     "name": "stderr",
     "output_type": "stream",
     "text": [
      "\u001b[1mRows: \u001b[22m\u001b[34m111\u001b[39m \u001b[1mColumns: \u001b[22m\u001b[34m3\u001b[39m\n",
      "\u001b[36m──\u001b[39m \u001b[1mColumn specification\u001b[22m \u001b[36m────────────────────────────────────────────────────────────────────────────────────────────────────────\u001b[39m\n",
      "\u001b[1mDelimiter:\u001b[22m \",\"\n",
      "\u001b[31mchr\u001b[39m (1): name\n",
      "\u001b[32mdbl\u001b[39m (1): id\n",
      "\u001b[33mlgl\u001b[39m (1): is_licensed\n",
      "\n",
      "\u001b[36mℹ\u001b[39m Use `spec()` to retrieve the full column specification for this data.\n",
      "\u001b[36mℹ\u001b[39m Specify the column types or set `show_col_types = FALSE` to quiet this message.\n"
     ]
    },
    {
     "name": "stdout",
     "output_type": "stream",
     "text": [
      "tibble [111 × 3] (S3: tbl_df/tbl/data.frame)\n",
      " $ id         : num [1:111] 1 22 50 112 126 147 155 158 186 204 ...\n",
      " $ name       : chr [1:111] \"Technic\" \"Creator\" \"Town\" \"Racers\" ...\n",
      " $ is_licensed: logi [1:111] FALSE FALSE FALSE FALSE FALSE FALSE ...\n"
     ]
    }
   ],
   "source": [
    "lego<-read_csv('datasets/lego_sets.csv') %>% as_tibble()\n",
    "str(lego)\n",
    "themes<-read_csv('datasets/themes.csv')  %>% as_tibble()\n",
    "str(themes)"
   ]
  },
  {
   "cell_type": "code",
   "execution_count": 11,
   "id": "50b15098",
   "metadata": {
    "scrolled": true
   },
   "outputs": [
    {
     "data": {
      "text/html": [
       "<table class=\"dataframe\">\n",
       "<caption>A tibble: 10 × 3</caption>\n",
       "<thead>\n",
       "\t<tr><th scope=col>id</th><th scope=col>name</th><th scope=col>is_licensed</th></tr>\n",
       "\t<tr><th scope=col>&lt;dbl&gt;</th><th scope=col>&lt;chr&gt;</th><th scope=col>&lt;lgl&gt;</th></tr>\n",
       "</thead>\n",
       "<tbody>\n",
       "\t<tr><td>  1</td><td>Technic          </td><td>FALSE</td></tr>\n",
       "\t<tr><td> 22</td><td>Creator          </td><td>FALSE</td></tr>\n",
       "\t<tr><td> 50</td><td>Town             </td><td>FALSE</td></tr>\n",
       "\t<tr><td>112</td><td>Racers           </td><td>FALSE</td></tr>\n",
       "\t<tr><td>126</td><td>Space            </td><td>FALSE</td></tr>\n",
       "\t<tr><td>147</td><td>Pirates          </td><td>FALSE</td></tr>\n",
       "\t<tr><td>155</td><td>Modular Buildings</td><td>FALSE</td></tr>\n",
       "\t<tr><td>158</td><td>Star Wars        </td><td> TRUE</td></tr>\n",
       "\t<tr><td>186</td><td>Castle           </td><td>FALSE</td></tr>\n",
       "\t<tr><td>204</td><td>Designer Sets    </td><td>FALSE</td></tr>\n",
       "</tbody>\n",
       "</table>\n"
      ],
      "text/latex": [
       "A tibble: 10 × 3\n",
       "\\begin{tabular}{lll}\n",
       " id & name & is\\_licensed\\\\\n",
       " <dbl> & <chr> & <lgl>\\\\\n",
       "\\hline\n",
       "\t   1 & Technic           & FALSE\\\\\n",
       "\t  22 & Creator           & FALSE\\\\\n",
       "\t  50 & Town              & FALSE\\\\\n",
       "\t 112 & Racers            & FALSE\\\\\n",
       "\t 126 & Space             & FALSE\\\\\n",
       "\t 147 & Pirates           & FALSE\\\\\n",
       "\t 155 & Modular Buildings & FALSE\\\\\n",
       "\t 158 & Star Wars         &  TRUE\\\\\n",
       "\t 186 & Castle            & FALSE\\\\\n",
       "\t 204 & Designer Sets     & FALSE\\\\\n",
       "\\end{tabular}\n"
      ],
      "text/markdown": [
       "\n",
       "A tibble: 10 × 3\n",
       "\n",
       "| id &lt;dbl&gt; | name &lt;chr&gt; | is_licensed &lt;lgl&gt; |\n",
       "|---|---|---|\n",
       "|   1 | Technic           | FALSE |\n",
       "|  22 | Creator           | FALSE |\n",
       "|  50 | Town              | FALSE |\n",
       "| 112 | Racers            | FALSE |\n",
       "| 126 | Space             | FALSE |\n",
       "| 147 | Pirates           | FALSE |\n",
       "| 155 | Modular Buildings | FALSE |\n",
       "| 158 | Star Wars         |  TRUE |\n",
       "| 186 | Castle            | FALSE |\n",
       "| 204 | Designer Sets     | FALSE |\n",
       "\n"
      ],
      "text/plain": [
       "   id  name              is_licensed\n",
       "1    1 Technic           FALSE      \n",
       "2   22 Creator           FALSE      \n",
       "3   50 Town              FALSE      \n",
       "4  112 Racers            FALSE      \n",
       "5  126 Space             FALSE      \n",
       "6  147 Pirates           FALSE      \n",
       "7  155 Modular Buildings FALSE      \n",
       "8  158 Star Wars          TRUE      \n",
       "9  186 Castle            FALSE      \n",
       "10 204 Designer Sets     FALSE      "
      ]
     },
     "metadata": {},
     "output_type": "display_data"
    }
   ],
   "source": [
    "themes  %>% slice(1:10)"
   ]
  },
  {
   "cell_type": "code",
   "execution_count": 12,
   "id": "b32532e5",
   "metadata": {
    "scrolled": true
   },
   "outputs": [
    {
     "data": {
      "text/html": [
       "<table class=\"dataframe\">\n",
       "<caption>A tibble: 10 × 6</caption>\n",
       "<thead>\n",
       "\t<tr><th scope=col>set_num</th><th scope=col>name</th><th scope=col>year</th><th scope=col>num_parts</th><th scope=col>theme_name</th><th scope=col>parent_theme</th></tr>\n",
       "\t<tr><th scope=col>&lt;chr&gt;</th><th scope=col>&lt;chr&gt;</th><th scope=col>&lt;dbl&gt;</th><th scope=col>&lt;dbl&gt;</th><th scope=col>&lt;chr&gt;</th><th scope=col>&lt;chr&gt;</th></tr>\n",
       "</thead>\n",
       "<tbody>\n",
       "\t<tr><td>00-1  </td><td>Weetabix Castle             </td><td>1970</td><td>471</td><td>Castle      </td><td>Legoland</td></tr>\n",
       "\t<tr><td>0011-2</td><td>Town Mini-Figures           </td><td>1978</td><td> NA</td><td>Supplemental</td><td>Town    </td></tr>\n",
       "\t<tr><td>0011-3</td><td>Castle 2 for 1 Bonus Offer  </td><td>1987</td><td> NA</td><td>Lion Knights</td><td>Castle  </td></tr>\n",
       "\t<tr><td>0012-1</td><td>Space Mini-Figures          </td><td>1979</td><td> 12</td><td>Supplemental</td><td>Space   </td></tr>\n",
       "\t<tr><td>0013-1</td><td>Space Mini-Figures          </td><td>1979</td><td> 12</td><td>Supplemental</td><td>Space   </td></tr>\n",
       "\t<tr><td>0014-1</td><td>Space Mini-Figures          </td><td>1979</td><td> 12</td><td>Supplemental</td><td>Space   </td></tr>\n",
       "\t<tr><td>0015-1</td><td>Space Mini-Figures          </td><td>1979</td><td> NA</td><td>Supplemental</td><td>Space   </td></tr>\n",
       "\t<tr><td>0016-1</td><td>Castle Mini Figures         </td><td>1978</td><td> NA</td><td>Castle      </td><td>Castle  </td></tr>\n",
       "\t<tr><td>00-2  </td><td>Weetabix Promotional House 1</td><td>1976</td><td> NA</td><td>Building    </td><td>Legoland</td></tr>\n",
       "\t<tr><td>00-3  </td><td>Weetabix Promotional House 2</td><td>1976</td><td> NA</td><td>Building    </td><td>Legoland</td></tr>\n",
       "</tbody>\n",
       "</table>\n"
      ],
      "text/latex": [
       "A tibble: 10 × 6\n",
       "\\begin{tabular}{llllll}\n",
       " set\\_num & name & year & num\\_parts & theme\\_name & parent\\_theme\\\\\n",
       " <chr> & <chr> & <dbl> & <dbl> & <chr> & <chr>\\\\\n",
       "\\hline\n",
       "\t 00-1   & Weetabix Castle              & 1970 & 471 & Castle       & Legoland\\\\\n",
       "\t 0011-2 & Town Mini-Figures            & 1978 &  NA & Supplemental & Town    \\\\\n",
       "\t 0011-3 & Castle 2 for 1 Bonus Offer   & 1987 &  NA & Lion Knights & Castle  \\\\\n",
       "\t 0012-1 & Space Mini-Figures           & 1979 &  12 & Supplemental & Space   \\\\\n",
       "\t 0013-1 & Space Mini-Figures           & 1979 &  12 & Supplemental & Space   \\\\\n",
       "\t 0014-1 & Space Mini-Figures           & 1979 &  12 & Supplemental & Space   \\\\\n",
       "\t 0015-1 & Space Mini-Figures           & 1979 &  NA & Supplemental & Space   \\\\\n",
       "\t 0016-1 & Castle Mini Figures          & 1978 &  NA & Castle       & Castle  \\\\\n",
       "\t 00-2   & Weetabix Promotional House 1 & 1976 &  NA & Building     & Legoland\\\\\n",
       "\t 00-3   & Weetabix Promotional House 2 & 1976 &  NA & Building     & Legoland\\\\\n",
       "\\end{tabular}\n"
      ],
      "text/markdown": [
       "\n",
       "A tibble: 10 × 6\n",
       "\n",
       "| set_num &lt;chr&gt; | name &lt;chr&gt; | year &lt;dbl&gt; | num_parts &lt;dbl&gt; | theme_name &lt;chr&gt; | parent_theme &lt;chr&gt; |\n",
       "|---|---|---|---|---|---|\n",
       "| 00-1   | Weetabix Castle              | 1970 | 471 | Castle       | Legoland |\n",
       "| 0011-2 | Town Mini-Figures            | 1978 |  NA | Supplemental | Town     |\n",
       "| 0011-3 | Castle 2 for 1 Bonus Offer   | 1987 |  NA | Lion Knights | Castle   |\n",
       "| 0012-1 | Space Mini-Figures           | 1979 |  12 | Supplemental | Space    |\n",
       "| 0013-1 | Space Mini-Figures           | 1979 |  12 | Supplemental | Space    |\n",
       "| 0014-1 | Space Mini-Figures           | 1979 |  12 | Supplemental | Space    |\n",
       "| 0015-1 | Space Mini-Figures           | 1979 |  NA | Supplemental | Space    |\n",
       "| 0016-1 | Castle Mini Figures          | 1978 |  NA | Castle       | Castle   |\n",
       "| 00-2   | Weetabix Promotional House 1 | 1976 |  NA | Building     | Legoland |\n",
       "| 00-3   | Weetabix Promotional House 2 | 1976 |  NA | Building     | Legoland |\n",
       "\n"
      ],
      "text/plain": [
       "   set_num name                         year num_parts theme_name  \n",
       "1  00-1    Weetabix Castle              1970 471       Castle      \n",
       "2  0011-2  Town Mini-Figures            1978  NA       Supplemental\n",
       "3  0011-3  Castle 2 for 1 Bonus Offer   1987  NA       Lion Knights\n",
       "4  0012-1  Space Mini-Figures           1979  12       Supplemental\n",
       "5  0013-1  Space Mini-Figures           1979  12       Supplemental\n",
       "6  0014-1  Space Mini-Figures           1979  12       Supplemental\n",
       "7  0015-1  Space Mini-Figures           1979  NA       Supplemental\n",
       "8  0016-1  Castle Mini Figures          1978  NA       Castle      \n",
       "9  00-2    Weetabix Promotional House 1 1976  NA       Building    \n",
       "10 00-3    Weetabix Promotional House 2 1976  NA       Building    \n",
       "   parent_theme\n",
       "1  Legoland    \n",
       "2  Town        \n",
       "3  Castle      \n",
       "4  Space       \n",
       "5  Space       \n",
       "6  Space       \n",
       "7  Space       \n",
       "8  Castle      \n",
       "9  Legoland    \n",
       "10 Legoland    "
      ]
     },
     "metadata": {},
     "output_type": "display_data"
    }
   ],
   "source": [
    "lego  %>% slice(1:10)"
   ]
  },
  {
   "cell_type": "code",
   "execution_count": 48,
   "id": "55bdb7c1",
   "metadata": {},
   "outputs": [
    {
     "data": {
      "text/html": [
       "51.65"
      ],
      "text/latex": [
       "51.65"
      ],
      "text/markdown": [
       "51.65"
      ],
      "text/plain": [
       "[1] 51.65"
      ]
     },
     "metadata": {},
     "output_type": "display_data"
    }
   ],
   "source": [
    "# merge lego and themes based on name and theme_name\n",
    "merged <- merge(x=lego, y=themes,by.x='parent_theme',by.y='name' )\n",
    "# we have some null values in set_num so we have to remove them\n",
    "merged %>% filter(!is.na(set_num) & is_licensed==TRUE) %>% nrow()->licensed\n",
    "merged %>% filter(!is.na(set_num) & parent_theme=='Star Wars' & is_licensed==TRUE) %>% nrow()->licensed_and_star_wars\n",
    "ans<-round((licensed_and_star_wars/licensed)*100,2)\n",
    "ans\n"
   ]
  },
  {
   "cell_type": "markdown",
   "id": "dfb6cd4e",
   "metadata": {},
   "source": [
    "# In Which year was Star Wars not the most popular licensed theme( in terms of number of sets released that year)"
   ]
  },
  {
   "cell_type": "code",
   "execution_count": 74,
   "id": "70f0ad52",
   "metadata": {},
   "outputs": [
    {
     "name": "stderr",
     "output_type": "stream",
     "text": [
      "\u001b[1m\u001b[22m`summarise()` has grouped output by 'year'. You can override using the `.groups` argument.\n"
     ]
    },
    {
     "data": {
      "text/html": [
       "<table class=\"dataframe\">\n",
       "<caption>A grouped_df: 83 × 3</caption>\n",
       "<thead>\n",
       "\t<tr><th scope=col>year</th><th scope=col>count</th><th scope=col>parent_theme</th></tr>\n",
       "\t<tr><th scope=col>&lt;dbl&gt;</th><th scope=col>&lt;int&gt;</th><th scope=col>&lt;chr&gt;</th></tr>\n",
       "</thead>\n",
       "<tbody>\n",
       "\t<tr><td>1999</td><td>13</td><td>Star Wars            </td></tr>\n",
       "\t<tr><td>2000</td><td> 5</td><td>Disney's Mickey Mouse</td></tr>\n",
       "\t<tr><td>2000</td><td>26</td><td>Star Wars            </td></tr>\n",
       "\t<tr><td>2001</td><td>11</td><td>Harry Potter         </td></tr>\n",
       "\t<tr><td>2001</td><td>14</td><td>Star Wars            </td></tr>\n",
       "\t<tr><td>2002</td><td>19</td><td>Harry Potter         </td></tr>\n",
       "\t<tr><td>2002</td><td>28</td><td>Star Wars            </td></tr>\n",
       "\t<tr><td>2002</td><td> 3</td><td>Super Heroes         </td></tr>\n",
       "\t<tr><td>2003</td><td> 3</td><td>Harry Potter         </td></tr>\n",
       "\t<tr><td>2003</td><td>32</td><td>Star Wars            </td></tr>\n",
       "\t<tr><td>2003</td><td> 5</td><td>Super Heroes         </td></tr>\n",
       "\t<tr><td>2004</td><td>14</td><td>Harry Potter         </td></tr>\n",
       "\t<tr><td>2004</td><td>20</td><td>Star Wars            </td></tr>\n",
       "\t<tr><td>2004</td><td> 6</td><td>Super Heroes         </td></tr>\n",
       "\t<tr><td>2005</td><td> 1</td><td>Disney's Mickey Mouse</td></tr>\n",
       "\t<tr><td>2005</td><td> 5</td><td>Harry Potter         </td></tr>\n",
       "\t<tr><td>2005</td><td>28</td><td>Star Wars            </td></tr>\n",
       "\t<tr><td>2005</td><td> 1</td><td>Super Heroes         </td></tr>\n",
       "\t<tr><td>2006</td><td> 2</td><td>Avatar               </td></tr>\n",
       "\t<tr><td>2006</td><td> 3</td><td>SpongeBob SquarePants</td></tr>\n",
       "\t<tr><td>2006</td><td>11</td><td>Star Wars            </td></tr>\n",
       "\t<tr><td>2006</td><td> 8</td><td>Super Heroes         </td></tr>\n",
       "\t<tr><td>2007</td><td> 1</td><td>Harry Potter         </td></tr>\n",
       "\t<tr><td>2007</td><td> 2</td><td>SpongeBob SquarePants</td></tr>\n",
       "\t<tr><td>2007</td><td>16</td><td>Star Wars            </td></tr>\n",
       "\t<tr><td>2007</td><td> 2</td><td>Super Heroes         </td></tr>\n",
       "\t<tr><td>2008</td><td>12</td><td>Indiana Jones        </td></tr>\n",
       "\t<tr><td>2008</td><td> 3</td><td>SpongeBob SquarePants</td></tr>\n",
       "\t<tr><td>2008</td><td>23</td><td>Star Wars            </td></tr>\n",
       "\t<tr><td>2008</td><td> 5</td><td>Super Heroes         </td></tr>\n",
       "\t<tr><td>⋮</td><td>⋮</td><td>⋮</td></tr>\n",
       "\t<tr><td>2013</td><td>19</td><td>Super Heroes                    </td></tr>\n",
       "\t<tr><td>2013</td><td> 9</td><td>Teenage Mutant Ninja Turtles    </td></tr>\n",
       "\t<tr><td>2013</td><td>13</td><td>The Hobbit and Lord of the Rings</td></tr>\n",
       "\t<tr><td>2013</td><td> 8</td><td>The Lone Ranger                 </td></tr>\n",
       "\t<tr><td>2014</td><td> 8</td><td>Disney Princess                 </td></tr>\n",
       "\t<tr><td>2014</td><td> 7</td><td>Minecraft                       </td></tr>\n",
       "\t<tr><td>2014</td><td>45</td><td>Star Wars                       </td></tr>\n",
       "\t<tr><td>2014</td><td>23</td><td>Super Heroes                    </td></tr>\n",
       "\t<tr><td>2014</td><td>10</td><td>Teenage Mutant Ninja Turtles    </td></tr>\n",
       "\t<tr><td>2014</td><td> 6</td><td>The Hobbit and Lord of the Rings</td></tr>\n",
       "\t<tr><td>2015</td><td> 4</td><td>Disney Princess                 </td></tr>\n",
       "\t<tr><td>2015</td><td> 7</td><td>Jurassic World                  </td></tr>\n",
       "\t<tr><td>2015</td><td> 4</td><td>Minecraft                       </td></tr>\n",
       "\t<tr><td>2015</td><td> 5</td><td>Scooby-Doo                      </td></tr>\n",
       "\t<tr><td>2015</td><td>58</td><td>Star Wars                       </td></tr>\n",
       "\t<tr><td>2015</td><td>28</td><td>Super Heroes                    </td></tr>\n",
       "\t<tr><td>2015</td><td> 1</td><td>The Hobbit and Lord of the Rings</td></tr>\n",
       "\t<tr><td>2016</td><td> 6</td><td>Angry Birds                     </td></tr>\n",
       "\t<tr><td>2016</td><td> 1</td><td>Disney                          </td></tr>\n",
       "\t<tr><td>2016</td><td>11</td><td>Disney Princess                 </td></tr>\n",
       "\t<tr><td>2016</td><td> 1</td><td>Ghostbusters                    </td></tr>\n",
       "\t<tr><td>2016</td><td> 7</td><td>Minecraft                       </td></tr>\n",
       "\t<tr><td>2016</td><td> 1</td><td>Scooby-Doo                      </td></tr>\n",
       "\t<tr><td>2016</td><td>61</td><td>Star Wars                       </td></tr>\n",
       "\t<tr><td>2016</td><td>33</td><td>Super Heroes                    </td></tr>\n",
       "\t<tr><td>2017</td><td> 6</td><td>Disney Princess                 </td></tr>\n",
       "\t<tr><td>2017</td><td> 9</td><td>Minecraft                       </td></tr>\n",
       "\t<tr><td>2017</td><td> 1</td><td>Pirates of the Caribbean        </td></tr>\n",
       "\t<tr><td>2017</td><td>55</td><td>Star Wars                       </td></tr>\n",
       "\t<tr><td>2017</td><td>72</td><td>Super Heroes                    </td></tr>\n",
       "</tbody>\n",
       "</table>\n"
      ],
      "text/latex": [
       "A grouped\\_df: 83 × 3\n",
       "\\begin{tabular}{lll}\n",
       " year & count & parent\\_theme\\\\\n",
       " <dbl> & <int> & <chr>\\\\\n",
       "\\hline\n",
       "\t 1999 & 13 & Star Wars            \\\\\n",
       "\t 2000 &  5 & Disney's Mickey Mouse\\\\\n",
       "\t 2000 & 26 & Star Wars            \\\\\n",
       "\t 2001 & 11 & Harry Potter         \\\\\n",
       "\t 2001 & 14 & Star Wars            \\\\\n",
       "\t 2002 & 19 & Harry Potter         \\\\\n",
       "\t 2002 & 28 & Star Wars            \\\\\n",
       "\t 2002 &  3 & Super Heroes         \\\\\n",
       "\t 2003 &  3 & Harry Potter         \\\\\n",
       "\t 2003 & 32 & Star Wars            \\\\\n",
       "\t 2003 &  5 & Super Heroes         \\\\\n",
       "\t 2004 & 14 & Harry Potter         \\\\\n",
       "\t 2004 & 20 & Star Wars            \\\\\n",
       "\t 2004 &  6 & Super Heroes         \\\\\n",
       "\t 2005 &  1 & Disney's Mickey Mouse\\\\\n",
       "\t 2005 &  5 & Harry Potter         \\\\\n",
       "\t 2005 & 28 & Star Wars            \\\\\n",
       "\t 2005 &  1 & Super Heroes         \\\\\n",
       "\t 2006 &  2 & Avatar               \\\\\n",
       "\t 2006 &  3 & SpongeBob SquarePants\\\\\n",
       "\t 2006 & 11 & Star Wars            \\\\\n",
       "\t 2006 &  8 & Super Heroes         \\\\\n",
       "\t 2007 &  1 & Harry Potter         \\\\\n",
       "\t 2007 &  2 & SpongeBob SquarePants\\\\\n",
       "\t 2007 & 16 & Star Wars            \\\\\n",
       "\t 2007 &  2 & Super Heroes         \\\\\n",
       "\t 2008 & 12 & Indiana Jones        \\\\\n",
       "\t 2008 &  3 & SpongeBob SquarePants\\\\\n",
       "\t 2008 & 23 & Star Wars            \\\\\n",
       "\t 2008 &  5 & Super Heroes         \\\\\n",
       "\t ⋮ & ⋮ & ⋮\\\\\n",
       "\t 2013 & 19 & Super Heroes                    \\\\\n",
       "\t 2013 &  9 & Teenage Mutant Ninja Turtles    \\\\\n",
       "\t 2013 & 13 & The Hobbit and Lord of the Rings\\\\\n",
       "\t 2013 &  8 & The Lone Ranger                 \\\\\n",
       "\t 2014 &  8 & Disney Princess                 \\\\\n",
       "\t 2014 &  7 & Minecraft                       \\\\\n",
       "\t 2014 & 45 & Star Wars                       \\\\\n",
       "\t 2014 & 23 & Super Heroes                    \\\\\n",
       "\t 2014 & 10 & Teenage Mutant Ninja Turtles    \\\\\n",
       "\t 2014 &  6 & The Hobbit and Lord of the Rings\\\\\n",
       "\t 2015 &  4 & Disney Princess                 \\\\\n",
       "\t 2015 &  7 & Jurassic World                  \\\\\n",
       "\t 2015 &  4 & Minecraft                       \\\\\n",
       "\t 2015 &  5 & Scooby-Doo                      \\\\\n",
       "\t 2015 & 58 & Star Wars                       \\\\\n",
       "\t 2015 & 28 & Super Heroes                    \\\\\n",
       "\t 2015 &  1 & The Hobbit and Lord of the Rings\\\\\n",
       "\t 2016 &  6 & Angry Birds                     \\\\\n",
       "\t 2016 &  1 & Disney                          \\\\\n",
       "\t 2016 & 11 & Disney Princess                 \\\\\n",
       "\t 2016 &  1 & Ghostbusters                    \\\\\n",
       "\t 2016 &  7 & Minecraft                       \\\\\n",
       "\t 2016 &  1 & Scooby-Doo                      \\\\\n",
       "\t 2016 & 61 & Star Wars                       \\\\\n",
       "\t 2016 & 33 & Super Heroes                    \\\\\n",
       "\t 2017 &  6 & Disney Princess                 \\\\\n",
       "\t 2017 &  9 & Minecraft                       \\\\\n",
       "\t 2017 &  1 & Pirates of the Caribbean        \\\\\n",
       "\t 2017 & 55 & Star Wars                       \\\\\n",
       "\t 2017 & 72 & Super Heroes                    \\\\\n",
       "\\end{tabular}\n"
      ],
      "text/markdown": [
       "\n",
       "A grouped_df: 83 × 3\n",
       "\n",
       "| year &lt;dbl&gt; | count &lt;int&gt; | parent_theme &lt;chr&gt; |\n",
       "|---|---|---|\n",
       "| 1999 | 13 | Star Wars             |\n",
       "| 2000 |  5 | Disney's Mickey Mouse |\n",
       "| 2000 | 26 | Star Wars             |\n",
       "| 2001 | 11 | Harry Potter          |\n",
       "| 2001 | 14 | Star Wars             |\n",
       "| 2002 | 19 | Harry Potter          |\n",
       "| 2002 | 28 | Star Wars             |\n",
       "| 2002 |  3 | Super Heroes          |\n",
       "| 2003 |  3 | Harry Potter          |\n",
       "| 2003 | 32 | Star Wars             |\n",
       "| 2003 |  5 | Super Heroes          |\n",
       "| 2004 | 14 | Harry Potter          |\n",
       "| 2004 | 20 | Star Wars             |\n",
       "| 2004 |  6 | Super Heroes          |\n",
       "| 2005 |  1 | Disney's Mickey Mouse |\n",
       "| 2005 |  5 | Harry Potter          |\n",
       "| 2005 | 28 | Star Wars             |\n",
       "| 2005 |  1 | Super Heroes          |\n",
       "| 2006 |  2 | Avatar                |\n",
       "| 2006 |  3 | SpongeBob SquarePants |\n",
       "| 2006 | 11 | Star Wars             |\n",
       "| 2006 |  8 | Super Heroes          |\n",
       "| 2007 |  1 | Harry Potter          |\n",
       "| 2007 |  2 | SpongeBob SquarePants |\n",
       "| 2007 | 16 | Star Wars             |\n",
       "| 2007 |  2 | Super Heroes          |\n",
       "| 2008 | 12 | Indiana Jones         |\n",
       "| 2008 |  3 | SpongeBob SquarePants |\n",
       "| 2008 | 23 | Star Wars             |\n",
       "| 2008 |  5 | Super Heroes          |\n",
       "| ⋮ | ⋮ | ⋮ |\n",
       "| 2013 | 19 | Super Heroes                     |\n",
       "| 2013 |  9 | Teenage Mutant Ninja Turtles     |\n",
       "| 2013 | 13 | The Hobbit and Lord of the Rings |\n",
       "| 2013 |  8 | The Lone Ranger                  |\n",
       "| 2014 |  8 | Disney Princess                  |\n",
       "| 2014 |  7 | Minecraft                        |\n",
       "| 2014 | 45 | Star Wars                        |\n",
       "| 2014 | 23 | Super Heroes                     |\n",
       "| 2014 | 10 | Teenage Mutant Ninja Turtles     |\n",
       "| 2014 |  6 | The Hobbit and Lord of the Rings |\n",
       "| 2015 |  4 | Disney Princess                  |\n",
       "| 2015 |  7 | Jurassic World                   |\n",
       "| 2015 |  4 | Minecraft                        |\n",
       "| 2015 |  5 | Scooby-Doo                       |\n",
       "| 2015 | 58 | Star Wars                        |\n",
       "| 2015 | 28 | Super Heroes                     |\n",
       "| 2015 |  1 | The Hobbit and Lord of the Rings |\n",
       "| 2016 |  6 | Angry Birds                      |\n",
       "| 2016 |  1 | Disney                           |\n",
       "| 2016 | 11 | Disney Princess                  |\n",
       "| 2016 |  1 | Ghostbusters                     |\n",
       "| 2016 |  7 | Minecraft                        |\n",
       "| 2016 |  1 | Scooby-Doo                       |\n",
       "| 2016 | 61 | Star Wars                        |\n",
       "| 2016 | 33 | Super Heroes                     |\n",
       "| 2017 |  6 | Disney Princess                  |\n",
       "| 2017 |  9 | Minecraft                        |\n",
       "| 2017 |  1 | Pirates of the Caribbean         |\n",
       "| 2017 | 55 | Star Wars                        |\n",
       "| 2017 | 72 | Super Heroes                     |\n",
       "\n"
      ],
      "text/plain": [
       "   year count parent_theme                    \n",
       "1  1999 13    Star Wars                       \n",
       "2  2000  5    Disney's Mickey Mouse           \n",
       "3  2000 26    Star Wars                       \n",
       "4  2001 11    Harry Potter                    \n",
       "5  2001 14    Star Wars                       \n",
       "6  2002 19    Harry Potter                    \n",
       "7  2002 28    Star Wars                       \n",
       "8  2002  3    Super Heroes                    \n",
       "9  2003  3    Harry Potter                    \n",
       "10 2003 32    Star Wars                       \n",
       "11 2003  5    Super Heroes                    \n",
       "12 2004 14    Harry Potter                    \n",
       "13 2004 20    Star Wars                       \n",
       "14 2004  6    Super Heroes                    \n",
       "15 2005  1    Disney's Mickey Mouse           \n",
       "16 2005  5    Harry Potter                    \n",
       "17 2005 28    Star Wars                       \n",
       "18 2005  1    Super Heroes                    \n",
       "19 2006  2    Avatar                          \n",
       "20 2006  3    SpongeBob SquarePants           \n",
       "21 2006 11    Star Wars                       \n",
       "22 2006  8    Super Heroes                    \n",
       "23 2007  1    Harry Potter                    \n",
       "24 2007  2    SpongeBob SquarePants           \n",
       "25 2007 16    Star Wars                       \n",
       "26 2007  2    Super Heroes                    \n",
       "27 2008 12    Indiana Jones                   \n",
       "28 2008  3    SpongeBob SquarePants           \n",
       "29 2008 23    Star Wars                       \n",
       "30 2008  5    Super Heroes                    \n",
       "⋮  ⋮    ⋮     ⋮                               \n",
       "54 2013 19    Super Heroes                    \n",
       "55 2013  9    Teenage Mutant Ninja Turtles    \n",
       "56 2013 13    The Hobbit and Lord of the Rings\n",
       "57 2013  8    The Lone Ranger                 \n",
       "58 2014  8    Disney Princess                 \n",
       "59 2014  7    Minecraft                       \n",
       "60 2014 45    Star Wars                       \n",
       "61 2014 23    Super Heroes                    \n",
       "62 2014 10    Teenage Mutant Ninja Turtles    \n",
       "63 2014  6    The Hobbit and Lord of the Rings\n",
       "64 2015  4    Disney Princess                 \n",
       "65 2015  7    Jurassic World                  \n",
       "66 2015  4    Minecraft                       \n",
       "67 2015  5    Scooby-Doo                      \n",
       "68 2015 58    Star Wars                       \n",
       "69 2015 28    Super Heroes                    \n",
       "70 2015  1    The Hobbit and Lord of the Rings\n",
       "71 2016  6    Angry Birds                     \n",
       "72 2016  1    Disney                          \n",
       "73 2016 11    Disney Princess                 \n",
       "74 2016  1    Ghostbusters                    \n",
       "75 2016  7    Minecraft                       \n",
       "76 2016  1    Scooby-Doo                      \n",
       "77 2016 61    Star Wars                       \n",
       "78 2016 33    Super Heroes                    \n",
       "79 2017  6    Disney Princess                 \n",
       "80 2017  9    Minecraft                       \n",
       "81 2017  1    Pirates of the Caribbean        \n",
       "82 2017 55    Star Wars                       \n",
       "83 2017 72    Super Heroes                    "
      ]
     },
     "metadata": {},
     "output_type": "display_data"
    }
   ],
   "source": [
    "merged  %>% filter(!is.na(set_num) & is_licensed==TRUE)->licensed\n",
    "licensed  %>% arrange(year)  %>% group_by(year,parent_theme) %>% summarise(count=n()) %>% distinct(year,count,parent_theme)"
   ]
  }
 ],
 "metadata": {
  "kernelspec": {
   "display_name": "R",
   "language": "R",
   "name": "ir"
  },
  "language_info": {
   "codemirror_mode": "r",
   "file_extension": ".r",
   "mimetype": "text/x-r-source",
   "name": "R",
   "pygments_lexer": "r",
   "version": "4.2.1"
  }
 },
 "nbformat": 4,
 "nbformat_minor": 5
}
