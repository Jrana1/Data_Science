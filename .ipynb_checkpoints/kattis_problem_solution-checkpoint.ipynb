{
 "cells": [
  {
   "cell_type": "markdown",
   "id": "0407298c",
   "metadata": {},
   "source": [
    "# FRA-UAS Weekly Exercises -Number Theory- 20.04"
   ]
  },
  {
   "cell_type": "markdown",
   "id": "eab0042e",
   "metadata": {},
   "source": [
    "## A # N-Sum"
   ]
  },
  {
   "cell_type": "code",
   "execution_count": 10,
   "id": "b7f7a891",
   "metadata": {},
   "outputs": [
    {
     "name": "stdout",
     "output_type": "stream",
     "text": [
      "4\n",
      "3 2 1 3\n",
      "9\n"
     ]
    }
   ],
   "source": [
    "\n",
    "def fun():\n",
    "    n = (int)(input())\n",
    "    arr=list((input().split(\" \")))\n",
    "    print(sum([int(x) for x in arr]))   \n",
    "fun()"
   ]
  },
  {
   "cell_type": "markdown",
   "id": "16dc3b37",
   "metadata": {},
   "source": [
    "## C # Harshad Numbers"
   ]
  },
  {
   "cell_type": "code",
   "execution_count": 9,
   "id": "98a487cf",
   "metadata": {},
   "outputs": [
    {
     "name": "stdout",
     "output_type": "stream",
     "text": [
      "987654321\n",
      "987654330\n"
     ]
    }
   ],
   "source": [
    "def digitSum(n):\n",
    "    sum=0\n",
    "    while(n>0):\n",
    "        sum+=n%10\n",
    "        n//=10\n",
    "    return sum;\n",
    "num = (int)(input())\n",
    "while(True):\n",
    "    if num % digitSum(num)==0:\n",
    "        print(num)\n",
    "        break\n",
    "    num+=1\n"
   ]
  },
  {
   "cell_type": "markdown",
   "id": "1eb5bb49",
   "metadata": {},
   "source": [
    "## D # Veci"
   ]
  },
  {
   "cell_type": "code",
   "execution_count": null,
   "id": "e36c2925",
   "metadata": {},
   "outputs": [],
   "source": [
    "\n",
    "        \n",
    "    "
   ]
  }
 ],
 "metadata": {
  "kernelspec": {
   "display_name": "Python 3 (ipykernel)",
   "language": "python",
   "name": "python3"
  },
  "language_info": {
   "codemirror_mode": {
    "name": "ipython",
    "version": 3
   },
   "file_extension": ".py",
   "mimetype": "text/x-python",
   "name": "python",
   "nbconvert_exporter": "python",
   "pygments_lexer": "ipython3",
   "version": "3.9.13"
  }
 },
 "nbformat": 4,
 "nbformat_minor": 5
}
