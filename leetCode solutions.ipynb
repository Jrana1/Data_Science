{
 "cells": [
  {
   "cell_type": "markdown",
   "id": "6e787784",
   "metadata": {},
   "source": [
    "# problme : 71. Simplify path"
   ]
  },
  {
   "cell_type": "code",
   "execution_count": 39,
   "id": "a1b432e0",
   "metadata": {},
   "outputs": [
    {
     "name": "stdout",
     "output_type": "stream",
     "text": [
      "['home']\n"
     ]
    },
    {
     "data": {
      "text/plain": [
       "'/home'"
      ]
     },
     "execution_count": 39,
     "metadata": {},
     "output_type": "execute_result"
    }
   ],
   "source": [
    "class Solution:\n",
    "    def simplifyPath(self, path: str) -> str:\n",
    "        strs = path.split(\"/\")\n",
    "        stack=[]\n",
    "        for st in strs:\n",
    "            if len(stack)!=0 and st== \"..\":\n",
    "                    stack.pop()\n",
    "            else:\n",
    "                if st!=\"\" and st!=\".\" and  st!= \"..\":\n",
    "                    stack.append(st)\n",
    "        ans=\"/\"\n",
    "        print(stack)\n",
    "        if len(stack)==0:\n",
    "           return ans\n",
    "        for st in stack:\n",
    "            ans=ans+st\n",
    "            ans=ans+'/'\n",
    "        ans =ans[:-1]  \n",
    "        return ans\n",
    "s = Solution()\n",
    "s.simplifyPath(\"/home/\")\n"
   ]
  },
  {
   "cell_type": "markdown",
   "id": "41c48d61",
   "metadata": {},
   "source": [
    "##   \t1046. Last Stone WeightN-sum "
   ]
  },
  {
   "cell_type": "code",
   "execution_count": 40,
   "id": "f74686a6",
   "metadata": {},
   "outputs": [
    {
     "name": "stdout",
     "output_type": "stream",
     "text": [
      "1\n"
     ]
    }
   ],
   "source": [
    "import heapq\n",
    "lst =[2,7,4,1,8,1]\n",
    "lst =[x*(-1) for x in lst]\n",
    "heapq.heapify(lst)\n",
    "while lst:\n",
    "   if len(lst)==1:\n",
    "          print(-heapq.heappop(lst))\n",
    "          break\n",
    "   else:\n",
    "     f=-heapq.heappop(lst)\n",
    "     s=-heapq.heappop(lst)\n",
    "     if f!=s:\n",
    "        heapq.heappush(lst,-abs(s-f))\n",
    "       \n",
    "    \n",
    "\n",
    "    "
   ]
  },
  {
   "cell_type": "code",
   "execution_count": null,
   "id": "0c4e8bca",
   "metadata": {},
   "outputs": [],
   "source": []
  }
 ],
 "metadata": {
  "kernelspec": {
   "display_name": "Python 3 (ipykernel)",
   "language": "python",
   "name": "python3"
  },
  "language_info": {
   "codemirror_mode": {
    "name": "ipython",
    "version": 3
   },
   "file_extension": ".py",
   "mimetype": "text/x-python",
   "name": "python",
   "nbconvert_exporter": "python",
   "pygments_lexer": "ipython3",
   "version": "3.9.13"
  }
 },
 "nbformat": 4,
 "nbformat_minor": 5
}
